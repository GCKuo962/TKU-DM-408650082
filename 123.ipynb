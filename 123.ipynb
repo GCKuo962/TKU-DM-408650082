{
 "cells": [
  {
   "cell_type": "code",
   "execution_count": 2,
   "id": "62f0f9b9",
   "metadata": {},
   "outputs": [
    {
     "name": "stdout",
     "output_type": "stream",
     "text": [
      "Hi Jupyter!\n"
     ]
    }
   ],
   "source": [
    "print(\"Hi Jupyter!\")"
   ]
  },
  {
   "cell_type": "markdown",
   "id": "77357195",
   "metadata": {},
   "source": [
    "## 第一行"
   ]
  },
  {
   "cell_type": "code",
   "execution_count": 3,
   "id": "e8005d85",
   "metadata": {},
   "outputs": [],
   "source": [
    "a = 1"
   ]
  },
  {
   "cell_type": "code",
   "execution_count": 4,
   "id": "1f96e90e",
   "metadata": {},
   "outputs": [],
   "source": [
    "b = 2"
   ]
  },
  {
   "cell_type": "code",
   "execution_count": 5,
   "id": "ba03e5b0",
   "metadata": {},
   "outputs": [
    {
     "data": {
      "text/plain": [
       "1"
      ]
     },
     "execution_count": 5,
     "metadata": {},
     "output_type": "execute_result"
    }
   ],
   "source": [
    "a"
   ]
  },
  {
   "cell_type": "code",
   "execution_count": 6,
   "id": "6ccbc08a",
   "metadata": {},
   "outputs": [
    {
     "data": {
      "text/plain": [
       "2"
      ]
     },
     "execution_count": 6,
     "metadata": {},
     "output_type": "execute_result"
    }
   ],
   "source": [
    "b"
   ]
  },
  {
   "cell_type": "code",
   "execution_count": 9,
   "id": "749881da",
   "metadata": {},
   "outputs": [],
   "source": [
    "age, name = 21, \"郭軒丞\""
   ]
  },
  {
   "cell_type": "code",
   "execution_count": 10,
   "id": "7b7fe276",
   "metadata": {},
   "outputs": [
    {
     "data": {
      "text/plain": [
       "21"
      ]
     },
     "execution_count": 10,
     "metadata": {},
     "output_type": "execute_result"
    }
   ],
   "source": [
    "age"
   ]
  },
  {
   "cell_type": "code",
   "execution_count": 11,
   "id": "d8609868",
   "metadata": {},
   "outputs": [
    {
     "data": {
      "text/plain": [
       "'郭軒丞'"
      ]
     },
     "execution_count": 11,
     "metadata": {},
     "output_type": "execute_result"
    }
   ],
   "source": [
    "name"
   ]
  },
  {
   "cell_type": "code",
   "execution_count": 12,
   "id": "12c3e52f",
   "metadata": {},
   "outputs": [],
   "source": [
    "d = 5\n",
    "#e = 6\n",
    "f = 7"
   ]
  },
  {
   "cell_type": "code",
   "execution_count": 13,
   "id": "e5df5640",
   "metadata": {},
   "outputs": [
    {
     "data": {
      "text/plain": [
       "5"
      ]
     },
     "execution_count": 13,
     "metadata": {},
     "output_type": "execute_result"
    }
   ],
   "source": [
    "d"
   ]
  },
  {
   "cell_type": "code",
   "execution_count": 14,
   "id": "9748ca78",
   "metadata": {},
   "outputs": [
    {
     "ename": "NameError",
     "evalue": "name 'e' is not defined",
     "output_type": "error",
     "traceback": [
      "\u001b[1;31m---------------------------------------------------------------------------\u001b[0m",
      "\u001b[1;31mNameError\u001b[0m                                 Traceback (most recent call last)",
      "Input \u001b[1;32mIn [14]\u001b[0m, in \u001b[0;36m<cell line: 1>\u001b[1;34m()\u001b[0m\n\u001b[1;32m----> 1\u001b[0m \u001b[43me\u001b[49m\n",
      "\u001b[1;31mNameError\u001b[0m: name 'e' is not defined"
     ]
    }
   ],
   "source": [
    "e"
   ]
  },
  {
   "cell_type": "code",
   "execution_count": 15,
   "id": "f062d61a",
   "metadata": {},
   "outputs": [
    {
     "data": {
      "text/plain": [
       "7"
      ]
     },
     "execution_count": 15,
     "metadata": {},
     "output_type": "execute_result"
    }
   ],
   "source": [
    "f"
   ]
  },
  {
   "cell_type": "code",
   "execution_count": 16,
   "id": "3795ee9a",
   "metadata": {},
   "outputs": [
    {
     "ename": "SyntaxError",
     "evalue": "cannot assign to literal (831305784.py, line 1)",
     "output_type": "error",
     "traceback": [
      "\u001b[1;36m  Input \u001b[1;32mIn [16]\u001b[1;36m\u001b[0m\n\u001b[1;33m    str1 = \"我說:\", str2 = \"「你好」\"\u001b[0m\n\u001b[1;37m           ^\u001b[0m\n\u001b[1;31mSyntaxError\u001b[0m\u001b[1;31m:\u001b[0m cannot assign to literal\n"
     ]
    }
   ],
   "source": [
    "str1 = \"我說:\", str2 = \"「你好」\""
   ]
  },
  {
   "cell_type": "code",
   "execution_count": 17,
   "id": "e552a5f2",
   "metadata": {},
   "outputs": [],
   "source": [
    "str1 = \"我說:\"\n",
    "str2 = \"「你好」\""
   ]
  },
  {
   "cell_type": "code",
   "execution_count": 18,
   "id": "d423f640",
   "metadata": {},
   "outputs": [
    {
     "data": {
      "text/plain": [
       "'我說:'"
      ]
     },
     "execution_count": 18,
     "metadata": {},
     "output_type": "execute_result"
    }
   ],
   "source": [
    "str1"
   ]
  },
  {
   "cell_type": "code",
   "execution_count": null,
   "id": "bb268f66",
   "metadata": {},
   "outputs": [],
   "source": [
    "str2"
   ]
  },
  {
   "cell_type": "code",
   "execution_count": null,
   "id": "6449ded9",
   "metadata": {},
   "outputs": [],
   "source": [
    "str1, str2"
   ]
  },
  {
   "cell_type": "code",
   "execution_count": null,
   "id": "2cc25090",
   "metadata": {},
   "outputs": [],
   "source": [
    "a = 1\n",
    "b = 2\n",
    "c = 3\n",
    "\n",
    "print(a, b, c)\n",
    "print([a, b, c])\n",
    "print(a, [b, c])\n",
    "\n",
    "print(str1, str2)"
   ]
  },
  {
   "cell_type": "code",
   "execution_count": 1,
   "id": "2f4cfbb2",
   "metadata": {},
   "outputs": [
    {
     "name": "stdout",
     "output_type": "stream",
     "text": [
      "hey hi hello\n",
      "hey_hi_hello\n",
      "hey\thi\thello\n",
      "hey\n",
      "hi\n",
      "hello\n"
     ]
    }
   ],
   "source": [
    "print(\"hey\", \"hi\", \"hello\")\n",
    "print(\"hey\", \"hi\", \"hello\", sep = \"_\")\n",
    "print(\"hey\", \"hi\", \"hello\", sep = \"\\t\")\n",
    "print(\"hey\", \"hi\", \"hello\", sep = \"\\n\")"
   ]
  },
  {
   "cell_type": "code",
   "execution_count": null,
   "id": "c169bc8e",
   "metadata": {},
   "outputs": [],
   "source": [
    "test1 = input(\"輸入\")"
   ]
  },
  {
   "cell_type": "code",
   "execution_count": null,
   "id": "2d805226",
   "metadata": {},
   "outputs": [],
   "source": [
    "test + 1"
   ]
  },
  {
   "cell_type": "code",
   "execution_count": 3,
   "id": "e7befba3",
   "metadata": {},
   "outputs": [
    {
     "name": "stdout",
     "output_type": "stream",
     "text": [
      "輸入123\n"
     ]
    },
    {
     "data": {
      "text/plain": [
       "124"
      ]
     },
     "execution_count": 3,
     "metadata": {},
     "output_type": "execute_result"
    }
   ],
   "source": [
    "test2 = int(input(\"輸入\"))\n",
    "test2 + 1"
   ]
  },
  {
   "cell_type": "code",
   "execution_count": null,
   "id": "4a7c911e",
   "metadata": {},
   "outputs": [],
   "source": [
    "print(type(test1))"
   ]
  },
  {
   "cell_type": "code",
   "execution_count": null,
   "id": "1c876bd2",
   "metadata": {},
   "outputs": [],
   "source": [
    "print(type(test2))"
   ]
  },
  {
   "cell_type": "code",
   "execution_count": 1,
   "id": "f9208dd4",
   "metadata": {},
   "outputs": [
    {
     "name": "stdout",
     "output_type": "stream",
     "text": [
      "請輸入國文成績50\n",
      "請輸入英文成績60\n",
      "請輸入數學成績70\n",
      "你的成績總分為: 180\n"
     ]
    }
   ],
   "source": [
    "國文 = int(input(\"請輸入國文成績 \"))\n",
    "英文 = int(input(\"請輸入英文成績 \"))\n",
    "數學 = int(input(\"請輸入數學成績 \"))\n",
    "total = 國文 + 英文 + 數學\n",
    "print(\"你的成績總分為：\", total)"
   ]
  },
  {
   "cell_type": "code",
   "execution_count": null,
   "id": "ebe097da",
   "metadata": {},
   "outputs": [],
   "source": []
  },
  {
   "cell_type": "code",
   "execution_count": null,
   "id": "cbe38b36",
   "metadata": {},
   "outputs": [],
   "source": []
  },
  {
   "cell_type": "code",
   "execution_count": null,
   "id": "3bc0061c",
   "metadata": {},
   "outputs": [],
   "source": []
  },
  {
   "cell_type": "code",
   "execution_count": null,
   "id": "ae7ca332",
   "metadata": {},
   "outputs": [],
   "source": []
  },
  {
   "cell_type": "code",
   "execution_count": null,
   "id": "19febbb2",
   "metadata": {},
   "outputs": [],
   "source": []
  },
  {
   "cell_type": "code",
   "execution_count": null,
   "id": "9cb33f54",
   "metadata": {},
   "outputs": [],
   "source": []
  },
  {
   "cell_type": "code",
   "execution_count": null,
   "id": "a456e796",
   "metadata": {},
   "outputs": [],
   "source": []
  },
  {
   "cell_type": "code",
   "execution_count": null,
   "id": "65f40382",
   "metadata": {},
   "outputs": [],
   "source": []
  },
  {
   "cell_type": "code",
   "execution_count": null,
   "id": "9b1ee2f9",
   "metadata": {},
   "outputs": [],
   "source": []
  }
 ],
 "metadata": {
  "kernelspec": {
   "display_name": "Python 3 (ipykernel)",
   "language": "python",
   "name": "python3"
  },
  "language_info": {
   "codemirror_mode": {
    "name": "ipython",
    "version": 3
   },
   "file_extension": ".py",
   "mimetype": "text/x-python",
   "name": "python",
   "nbconvert_exporter": "python",
   "pygments_lexer": "ipython3",
   "version": "3.9.13"
  }
 },
 "nbformat": 4,
 "nbformat_minor": 5
}
