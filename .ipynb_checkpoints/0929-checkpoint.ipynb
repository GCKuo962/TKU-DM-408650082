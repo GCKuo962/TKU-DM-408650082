{
 "cells": [
  {
   "cell_type": "code",
   "execution_count": 1,
   "id": "a45319f7",
   "metadata": {},
   "outputs": [
    {
     "name": "stdout",
     "output_type": "stream",
     "text": [
      " 磁碟區 C 中的磁碟沒有標籤。\n",
      " 磁碟區序號:  08C8-81F1\n",
      "\n",
      " C:\\Users\\AA 的目錄\n",
      "\n",
      "2022/09/29  上午 10:20    <DIR>          .\n",
      "2022/07/05  下午 06:28    <DIR>          ..\n",
      "2022/07/25  上午 10:16    <DIR>          .anaconda\n",
      "2022/07/19  下午 02:43    <DIR>          .android\n",
      "2022/07/26  上午 09:05    <DIR>          .cache\n",
      "2022/09/29  上午 10:21    <DIR>          .conda\n",
      "2022/07/26  下午 02:32                25 .condarc\n",
      "2022/07/26  下午 02:30    <DIR>          .continuum\n",
      "2022/07/19  下午 02:45    <DIR>          .cordova\n",
      "2022/09/02  下午 02:49    <DIR>          .docker\n",
      "2022/07/19  下午 02:29    <DIR>          .dotnet\n",
      "2022/07/26  上午 09:05    <DIR>          .eclipse\n",
      "2022/07/26  下午 02:55    <DIR>          .idlerc\n",
      "2022/09/29  上午 10:20    <DIR>          .ipynb_checkpoints\n",
      "2022/09/29  上午 10:18    <DIR>          .ipython\n",
      "2022/09/02  下午 02:44    <DIR>          .matplotlib\n",
      "2022/07/26  上午 09:55    <DIR>          .ms-ad\n",
      "2022/08/17  上午 11:54    <DIR>          .p2\n",
      "2022/07/25  下午 02:36    <DIR>          .vscode\n",
      "2022/09/29  上午 10:20               589 0929.ipynb\n",
      "2022/07/05  上午 10:24    <DIR>          Contacts\n",
      "2022/09/05  下午 04:17    <DIR>          Desktop\n",
      "2022/08/01  上午 09:29    <DIR>          Documents\n",
      "2022/09/21  上午 08:52    <DIR>          Downloads\n",
      "2022/07/26  下午 03:14    <DIR>          eclipse\n",
      "2022/07/26  下午 03:16    <DIR>          eclipse-workspace\n",
      "2022/07/05  上午 10:24    <DIR>          Favorites\n",
      "2022/07/05  上午 11:08    <DIR>          Intel\n",
      "2022/07/05  上午 10:24    <DIR>          Links\n",
      "2022/07/05  上午 10:24    <DIR>          Music\n",
      "2022/07/05  下午 01:50    <DIR>          OneDrive\n",
      "2022/07/15  下午 12:00    <DIR>          Pictures\n",
      "2022/07/05  上午 10:24    <DIR>          Saved Games\n",
      "2022/07/05  上午 10:36    <DIR>          Searches\n",
      "2022/07/19  下午 02:52    <DIR>          source\n",
      "2022/07/13  下午 03:21    <DIR>          Videos\n",
      "               2 個檔案             614 位元組\n",
      "              34 個目錄  62,126,096,384 位元組可用\n"
     ]
    }
   ],
   "source": [
    "ls"
   ]
  },
  {
   "cell_type": "code",
   "execution_count": 8,
   "id": "72502d81",
   "metadata": {},
   "outputs": [
    {
     "ename": "Exception",
     "evalue": "File `'Hello.ipynb.py'` not found.",
     "output_type": "error",
     "traceback": [
      "\u001b[1;31m---------------------------------------------------------------------------\u001b[0m",
      "\u001b[1;31mOSError\u001b[0m                                   Traceback (most recent call last)",
      "File \u001b[1;32mC:\\ProgramData\\Anaconda3\\lib\\site-packages\\IPython\\core\\magics\\execution.py:696\u001b[0m, in \u001b[0;36mExecutionMagics.run\u001b[1;34m(self, parameter_s, runner, file_finder)\u001b[0m\n\u001b[0;32m    695\u001b[0m     fpath \u001b[38;5;241m=\u001b[39m arg_lst[\u001b[38;5;241m0\u001b[39m]\n\u001b[1;32m--> 696\u001b[0m     filename \u001b[38;5;241m=\u001b[39m \u001b[43mfile_finder\u001b[49m\u001b[43m(\u001b[49m\u001b[43mfpath\u001b[49m\u001b[43m)\u001b[49m\n\u001b[0;32m    697\u001b[0m \u001b[38;5;28;01mexcept\u001b[39;00m \u001b[38;5;167;01mIndexError\u001b[39;00m \u001b[38;5;28;01mas\u001b[39;00m e:\n",
      "File \u001b[1;32mC:\\ProgramData\\Anaconda3\\lib\\site-packages\\IPython\\utils\\path.py:91\u001b[0m, in \u001b[0;36mget_py_filename\u001b[1;34m(name)\u001b[0m\n\u001b[0;32m     90\u001b[0m \u001b[38;5;28;01melse\u001b[39;00m:\n\u001b[1;32m---> 91\u001b[0m     \u001b[38;5;28;01mraise\u001b[39;00m \u001b[38;5;167;01mIOError\u001b[39;00m(\u001b[38;5;124m'\u001b[39m\u001b[38;5;124mFile `\u001b[39m\u001b[38;5;132;01m%r\u001b[39;00m\u001b[38;5;124m` not found.\u001b[39m\u001b[38;5;124m'\u001b[39m \u001b[38;5;241m%\u001b[39m name)\n",
      "\u001b[1;31mOSError\u001b[0m: File `'Hello.ipynb.py'` not found.",
      "\nThe above exception was the direct cause of the following exception:\n",
      "\u001b[1;31mException\u001b[0m                                 Traceback (most recent call last)",
      "Input \u001b[1;32mIn [8]\u001b[0m, in \u001b[0;36m<cell line: 1>\u001b[1;34m()\u001b[0m\n\u001b[1;32m----> 1\u001b[0m \u001b[43mget_ipython\u001b[49m\u001b[43m(\u001b[49m\u001b[43m)\u001b[49m\u001b[38;5;241;43m.\u001b[39;49m\u001b[43mrun_line_magic\u001b[49m\u001b[43m(\u001b[49m\u001b[38;5;124;43m'\u001b[39;49m\u001b[38;5;124;43mrun\u001b[39;49m\u001b[38;5;124;43m'\u001b[39;49m\u001b[43m,\u001b[49m\u001b[43m \u001b[49m\u001b[38;5;124;43m'\u001b[39;49m\u001b[38;5;124;43mHello.ipynb\u001b[39;49m\u001b[38;5;124;43m'\u001b[39;49m\u001b[43m)\u001b[49m\n",
      "File \u001b[1;32mC:\\ProgramData\\Anaconda3\\lib\\site-packages\\IPython\\core\\interactiveshell.py:2294\u001b[0m, in \u001b[0;36mInteractiveShell.run_line_magic\u001b[1;34m(self, magic_name, line, _stack_depth)\u001b[0m\n\u001b[0;32m   2292\u001b[0m     kwargs[\u001b[38;5;124m'\u001b[39m\u001b[38;5;124mlocal_ns\u001b[39m\u001b[38;5;124m'\u001b[39m] \u001b[38;5;241m=\u001b[39m \u001b[38;5;28mself\u001b[39m\u001b[38;5;241m.\u001b[39mget_local_scope(stack_depth)\n\u001b[0;32m   2293\u001b[0m \u001b[38;5;28;01mwith\u001b[39;00m \u001b[38;5;28mself\u001b[39m\u001b[38;5;241m.\u001b[39mbuiltin_trap:\n\u001b[1;32m-> 2294\u001b[0m     result \u001b[38;5;241m=\u001b[39m fn(\u001b[38;5;241m*\u001b[39margs, \u001b[38;5;241m*\u001b[39m\u001b[38;5;241m*\u001b[39mkwargs)\n\u001b[0;32m   2295\u001b[0m \u001b[38;5;28;01mreturn\u001b[39;00m result\n",
      "File \u001b[1;32mC:\\ProgramData\\Anaconda3\\lib\\site-packages\\IPython\\core\\magics\\execution.py:707\u001b[0m, in \u001b[0;36mExecutionMagics.run\u001b[1;34m(self, parameter_s, runner, file_finder)\u001b[0m\n\u001b[0;32m    705\u001b[0m     \u001b[38;5;28;01mif\u001b[39;00m os\u001b[38;5;241m.\u001b[39mname \u001b[38;5;241m==\u001b[39m \u001b[38;5;124m'\u001b[39m\u001b[38;5;124mnt\u001b[39m\u001b[38;5;124m'\u001b[39m \u001b[38;5;129;01mand\u001b[39;00m re\u001b[38;5;241m.\u001b[39mmatch(\u001b[38;5;124mr\u001b[39m\u001b[38;5;124m\"\u001b[39m\u001b[38;5;124m^\u001b[39m\u001b[38;5;124m'\u001b[39m\u001b[38;5;124m.*\u001b[39m\u001b[38;5;124m'\u001b[39m\u001b[38;5;124m$\u001b[39m\u001b[38;5;124m\"\u001b[39m,fpath):\n\u001b[0;32m    706\u001b[0m         warn(\u001b[38;5;124m'\u001b[39m\u001b[38;5;124mFor Windows, use double quotes to wrap a filename: \u001b[39m\u001b[38;5;132;01m%r\u001b[39;00m\u001b[38;5;124mun \u001b[39m\u001b[38;5;124m\"\u001b[39m\u001b[38;5;124mmypath\u001b[39m\u001b[38;5;130;01m\\\\\u001b[39;00m\u001b[38;5;124mmyfile.py\u001b[39m\u001b[38;5;124m\"\u001b[39m\u001b[38;5;124m'\u001b[39m)\n\u001b[1;32m--> 707\u001b[0m     \u001b[38;5;28;01mraise\u001b[39;00m \u001b[38;5;167;01mException\u001b[39;00m(msg) \u001b[38;5;28;01mfrom\u001b[39;00m \u001b[38;5;21;01me\u001b[39;00m\n\u001b[0;32m    708\u001b[0m \u001b[38;5;28;01mexcept\u001b[39;00m \u001b[38;5;167;01mTypeError\u001b[39;00m:\n\u001b[0;32m    709\u001b[0m     \u001b[38;5;28;01mif\u001b[39;00m fpath \u001b[38;5;129;01min\u001b[39;00m sys\u001b[38;5;241m.\u001b[39mmeta_path:\n",
      "\u001b[1;31mException\u001b[0m: File `'Hello.ipynb.py'` not found."
     ]
    }
   ],
   "source": [
    "run Hello.ipynb"
   ]
  },
  {
   "cell_type": "code",
   "execution_count": 7,
   "id": "eba49d6c",
   "metadata": {},
   "outputs": [
    {
     "name": "stdout",
     "output_type": "stream",
     "text": [
      "Overwriting hi.py\n"
     ]
    }
   ],
   "source": [
    "%%writefile hi.py\n",
    "print(\"Hi 0929!\")"
   ]
  },
  {
   "cell_type": "code",
   "execution_count": 9,
   "id": "df8c23ef",
   "metadata": {},
   "outputs": [
    {
     "name": "stdout",
     "output_type": "stream",
     "text": [
      "Hi 0929!\n"
     ]
    }
   ],
   "source": [
    "run hi.py"
   ]
  },
  {
   "cell_type": "code",
   "execution_count": 10,
   "id": "9a615fb5",
   "metadata": {},
   "outputs": [],
   "source": [
    "a = 1"
   ]
  },
  {
   "cell_type": "code",
   "execution_count": 11,
   "id": "21ba29f7",
   "metadata": {},
   "outputs": [],
   "source": [
    "b = 2"
   ]
  },
  {
   "cell_type": "code",
   "execution_count": 12,
   "id": "1405509b",
   "metadata": {},
   "outputs": [
    {
     "name": "stdout",
     "output_type": "stream",
     "text": [
      "Variable   Type    Data/Info\n",
      "----------------------------\n",
      "a          int     1\n",
      "b          int     2\n"
     ]
    }
   ],
   "source": [
    "whos"
   ]
  },
  {
   "cell_type": "code",
   "execution_count": 14,
   "id": "160ac0d4",
   "metadata": {},
   "outputs": [
    {
     "name": "stdout",
     "output_type": "stream",
     "text": [
      "Defaulting to user installation because normal site-packages is not writeable\n",
      "Requirement already satisfied: numpy in c:\\programdata\\anaconda3\\lib\\site-packages (1.21.5)\n",
      "Note: you may need to restart the kernel to use updated packages.\n"
     ]
    }
   ],
   "source": [
    "pip install numpy"
   ]
  },
  {
   "cell_type": "code",
   "execution_count": 15,
   "id": "bf542294",
   "metadata": {},
   "outputs": [],
   "source": [
    "import numpy as np"
   ]
  },
  {
   "cell_type": "code",
   "execution_count": 19,
   "id": "a3c99dcf",
   "metadata": {},
   "outputs": [],
   "source": [
    "np1 = np.array([1, 2, 3, 4])\n",
    "np2 = np.array((5, 6, 7, 8))"
   ]
  },
  {
   "cell_type": "code",
   "execution_count": 20,
   "id": "c9d06ea8",
   "metadata": {},
   "outputs": [
    {
     "data": {
      "text/plain": [
       "array([1, 2, 3, 4])"
      ]
     },
     "execution_count": 20,
     "metadata": {},
     "output_type": "execute_result"
    }
   ],
   "source": [
    "np1"
   ]
  },
  {
   "cell_type": "code",
   "execution_count": 21,
   "id": "d64a0789",
   "metadata": {
    "scrolled": true
   },
   "outputs": [
    {
     "data": {
      "text/plain": [
       "array([5, 6, 7, 8])"
      ]
     },
     "execution_count": 21,
     "metadata": {},
     "output_type": "execute_result"
    }
   ],
   "source": [
    "np2"
   ]
  },
  {
   "cell_type": "code",
   "execution_count": 23,
   "id": "0d985ca8",
   "metadata": {},
   "outputs": [
    {
     "name": "stdout",
     "output_type": "stream",
     "text": [
      "[1 2 3 4]\n",
      "[5 6 7 8]\n",
      "<class 'numpy.ndarray'> <class 'numpy.ndarray'>\n"
     ]
    }
   ],
   "source": [
    "print(np1)\n",
    "print(np2)\n",
    "print(type(np1), type(np2))"
   ]
  },
  {
   "cell_type": "markdown",
   "id": "2e9033f7",
   "metadata": {},
   "source": [
    "# np.arange"
   ]
  },
  {
   "cell_type": "code",
   "execution_count": 30,
   "id": "4683350f",
   "metadata": {},
   "outputs": [
    {
     "name": "stdout",
     "output_type": "stream",
     "text": [
      "[ 0  2  4  6  8 10 12 14 16 18 20 22 24 26 28 30]\n"
     ]
    },
    {
     "data": {
      "text/plain": [
       "array([ 0,  2,  4,  6,  8, 10, 12, 14, 16, 18, 20, 22, 24, 26, 28, 30])"
      ]
     },
     "execution_count": 30,
     "metadata": {},
     "output_type": "execute_result"
    }
   ],
   "source": [
    "np3 = np.arange(0, 31, 2)\n",
    "print(np3)\n",
    "np3"
   ]
  },
  {
   "cell_type": "markdown",
   "id": "40aeb455",
   "metadata": {},
   "source": [
    "# np.linspace"
   ]
  },
  {
   "cell_type": "code",
   "execution_count": 31,
   "id": "ada5ca01",
   "metadata": {},
   "outputs": [
    {
     "name": "stdout",
     "output_type": "stream",
     "text": [
      "[ 1.  8. 15.]\n"
     ]
    },
    {
     "data": {
      "text/plain": [
       "array([ 1.,  8., 15.])"
      ]
     },
     "execution_count": 31,
     "metadata": {},
     "output_type": "execute_result"
    }
   ],
   "source": [
    "np4 = np.linspace(1, 15, 3)\n",
    "print(np4)\n",
    "np4"
   ]
  },
  {
   "cell_type": "code",
   "execution_count": 32,
   "id": "5eed26cb",
   "metadata": {},
   "outputs": [
    {
     "name": "stdout",
     "output_type": "stream",
     "text": [
      "[ 1.  2.  3.  4.  5.  6.  7.  8.  9. 10.]\n"
     ]
    },
    {
     "data": {
      "text/plain": [
       "array([ 1.,  2.,  3.,  4.,  5.,  6.,  7.,  8.,  9., 10.])"
      ]
     },
     "execution_count": 32,
     "metadata": {},
     "output_type": "execute_result"
    }
   ],
   "source": [
    "np4 = np.linspace(1, 10, 10)\n",
    "print(np4)\n",
    "np4"
   ]
  },
  {
   "cell_type": "markdown",
   "id": "1ed4f20c",
   "metadata": {},
   "source": [
    "# np.zeros"
   ]
  },
  {
   "cell_type": "code",
   "execution_count": 33,
   "id": "f5de68ce",
   "metadata": {},
   "outputs": [
    {
     "name": "stdout",
     "output_type": "stream",
     "text": [
      "[0. 0. 0. 0. 0.]\n"
     ]
    },
    {
     "data": {
      "text/plain": [
       "array([0., 0., 0., 0., 0.])"
      ]
     },
     "execution_count": 33,
     "metadata": {},
     "output_type": "execute_result"
    }
   ],
   "source": [
    "np5 = np.zeros((5,))\n",
    "print(np5)\n",
    "np5"
   ]
  },
  {
   "cell_type": "markdown",
   "id": "ee9a69ea",
   "metadata": {},
   "source": [
    "# np.ones"
   ]
  },
  {
   "cell_type": "code",
   "execution_count": 34,
   "id": "685a672c",
   "metadata": {},
   "outputs": [
    {
     "name": "stdout",
     "output_type": "stream",
     "text": [
      "[1. 1. 1. 1. 1.]\n"
     ]
    },
    {
     "data": {
      "text/plain": [
       "array([1., 1., 1., 1., 1.])"
      ]
     },
     "execution_count": 34,
     "metadata": {},
     "output_type": "execute_result"
    }
   ],
   "source": [
    "np6 = np.ones((5,))\n",
    "print(np6)\n",
    "np6"
   ]
  },
  {
   "cell_type": "code",
   "execution_count": 35,
   "id": "4f85ca49",
   "metadata": {},
   "outputs": [
    {
     "name": "stdout",
     "output_type": "stream",
     "text": [
      "[[1. 1.]\n",
      " [1. 1.]\n",
      " [1. 1.]\n",
      " [1. 1.]\n",
      " [1. 1.]]\n"
     ]
    },
    {
     "data": {
      "text/plain": [
       "array([[1., 1.],\n",
       "       [1., 1.],\n",
       "       [1., 1.],\n",
       "       [1., 1.],\n",
       "       [1., 1.]])"
      ]
     },
     "execution_count": 35,
     "metadata": {},
     "output_type": "execute_result"
    }
   ],
   "source": [
    "np7 = np.ones((5,2))\n",
    "print(np7)\n",
    "np7"
   ]
  },
  {
   "cell_type": "code",
   "execution_count": 37,
   "id": "5f814688",
   "metadata": {},
   "outputs": [
    {
     "name": "stdout",
     "output_type": "stream",
     "text": [
      "[[1. 1. 1.]\n",
      " [1. 1. 1.]\n",
      " [1. 1. 1.]]\n"
     ]
    },
    {
     "data": {
      "text/plain": [
       "array([[1., 1., 1.],\n",
       "       [1., 1., 1.],\n",
       "       [1., 1., 1.]])"
      ]
     },
     "execution_count": 37,
     "metadata": {},
     "output_type": "execute_result"
    }
   ],
   "source": [
    "np77 = np.ones((3,3))\n",
    "print(np77)\n",
    "np77"
   ]
  },
  {
   "cell_type": "markdown",
   "id": "e4e20164",
   "metadata": {},
   "source": [
    "# 多維陣列"
   ]
  },
  {
   "cell_type": "code",
   "execution_count": 41,
   "id": "517d8614",
   "metadata": {},
   "outputs": [
    {
     "name": "stdout",
     "output_type": "stream",
     "text": [
      "[[1, 2, 3, 4, 5], [6, 7, 8, 9, 10]]\n"
     ]
    },
    {
     "data": {
      "text/plain": [
       "[[1, 2, 3, 4, 5], [6, 7, 8, 9, 10]]"
      ]
     },
     "execution_count": 41,
     "metadata": {},
     "output_type": "execute_result"
    }
   ],
   "source": [
    "listdata = [[1, 2, 3, 4, 5],\n",
    "           [6, 7, 8, 9, 10]]\n",
    "print(listdata)\n",
    "listdata"
   ]
  },
  {
   "cell_type": "code",
   "execution_count": 42,
   "id": "83b05eae",
   "metadata": {},
   "outputs": [
    {
     "name": "stdout",
     "output_type": "stream",
     "text": [
      "[[ 1  2  3  4  5]\n",
      " [ 6  7  8  9 10]]\n",
      "維度 2\n",
      "形狀 (2, 5)\n",
      "數量 10\n"
     ]
    }
   ],
   "source": [
    "np8 = np.array(listdata)\n",
    "print(np8)\n",
    "np8\n",
    "print(\"維度\", np8.ndim)\n",
    "print(\"形狀\", np8.shape)\n",
    "print(\"數量\", np8.size)"
   ]
  },
  {
   "cell_type": "markdown",
   "id": "953ec92e",
   "metadata": {},
   "source": [
    "# 改變陣列形狀"
   ]
  },
  {
   "cell_type": "code",
   "execution_count": 43,
   "id": "3d715929",
   "metadata": {},
   "outputs": [
    {
     "name": "stdout",
     "output_type": "stream",
     "text": [
      "[ 1  2  3  4  5  6  7  8  9 10 11 12 13 14 15 16 17 18 19 20]\n"
     ]
    }
   ],
   "source": [
    "np9 = np.arange(1, 21)\n",
    "np9\n",
    "print(np9)"
   ]
  },
  {
   "cell_type": "code",
   "execution_count": 45,
   "id": "0ce94d70",
   "metadata": {},
   "outputs": [
    {
     "name": "stdout",
     "output_type": "stream",
     "text": [
      "[[ 1  2  3  4  5]\n",
      " [ 6  7  8  9 10]\n",
      " [11 12 13 14 15]\n",
      " [16 17 18 19 20]]\n"
     ]
    }
   ],
   "source": [
    "np10 = np9.reshape(4, 5)\n",
    "print(np10)"
   ]
  },
  {
   "cell_type": "code",
   "execution_count": 46,
   "id": "a50b1b98",
   "metadata": {},
   "outputs": [
    {
     "name": "stdout",
     "output_type": "stream",
     "text": [
      "[[ 1  2  3  4]\n",
      " [ 5  6  7  8]\n",
      " [ 9 10 11 12]\n",
      " [13 14 15 16]\n",
      " [17 18 19 20]]\n"
     ]
    }
   ],
   "source": [
    "np10a = np9.reshape(5, 4)\n",
    "print(np10a)"
   ]
  },
  {
   "cell_type": "code",
   "execution_count": 49,
   "id": "bed8260c",
   "metadata": {},
   "outputs": [
    {
     "name": "stdout",
     "output_type": "stream",
     "text": [
      "[0 1 2 3 4 5 6 7 8]\n",
      "0\n",
      "8\n",
      "[1 2 3 4 5 6 7]\n",
      "[1 3 5 7]\n",
      "[8 7 6 5 4 3 2]\n",
      "[0 1 2 3 4 5 6 7 8]\n",
      "[0 1 2 3]\n",
      "[4 5 6 7 8]\n"
     ]
    }
   ],
   "source": [
    "np10 = np.arange(0, 9)\n",
    "print(np10)\n",
    "print(np10[0])\n",
    "print(np10[8])\n",
    "print(np10[1:8])\n",
    "print(np10[1:8:2])\n",
    "print(np10[8:1:-1])\n",
    "print(np10[:])\n",
    "print(np10[:4])\n",
    "print(np10[4:])"
   ]
  },
  {
   "cell_type": "code",
   "execution_count": 51,
   "id": "ea1708cc",
   "metadata": {},
   "outputs": [
    {
     "data": {
      "text/plain": [
       "array([[ 1,  2,  3,  4],\n",
       "       [ 5,  6,  7,  8],\n",
       "       [ 9, 10, 11, 12],\n",
       "       [13, 14, 15, 16],\n",
       "       [17, 18, 19, 20]])"
      ]
     },
     "execution_count": 51,
     "metadata": {},
     "output_type": "execute_result"
    }
   ],
   "source": [
    "np11 = np.arange(1, 21).reshape(5, 4)\n",
    "np11"
   ]
  },
  {
   "cell_type": "code",
   "execution_count": 52,
   "id": "0e401805",
   "metadata": {},
   "outputs": [
    {
     "data": {
      "text/plain": [
       "3"
      ]
     },
     "execution_count": 52,
     "metadata": {},
     "output_type": "execute_result"
    }
   ],
   "source": [
    "np11[0, 2]"
   ]
  },
  {
   "cell_type": "code",
   "execution_count": 53,
   "id": "f7dcc9f4",
   "metadata": {},
   "outputs": [
    {
     "data": {
      "text/plain": [
       "4"
      ]
     },
     "execution_count": 53,
     "metadata": {},
     "output_type": "execute_result"
    }
   ],
   "source": [
    "np11[0, 3]"
   ]
  },
  {
   "cell_type": "code",
   "execution_count": 55,
   "id": "09e2f8e3",
   "metadata": {},
   "outputs": [
    {
     "data": {
      "text/plain": [
       "7"
      ]
     },
     "execution_count": 55,
     "metadata": {},
     "output_type": "execute_result"
    }
   ],
   "source": [
    "np11[1, 2]"
   ]
  },
  {
   "cell_type": "code",
   "execution_count": 56,
   "id": "12f2f94e",
   "metadata": {},
   "outputs": [
    {
     "name": "stdout",
     "output_type": "stream",
     "text": [
      "[ 7 11]\n",
      "[[ 6  7]\n",
      " [10 11]]\n",
      "[[ 1  3]\n",
      " [ 9 11]\n",
      " [17 19]]\n",
      "[ 3  7 11 15 19]\n",
      "[5 6 7 8]\n",
      "[[ 1  2  3  4]\n",
      " [ 5  6  7  8]\n",
      " [ 9 10 11 12]\n",
      " [13 14 15 16]\n",
      " [17 18 19 20]]\n"
     ]
    }
   ],
   "source": [
    "print(np11[1:3, 2])\n",
    "print(np11[1:3, 1:3])\n",
    "print(np11[::2, ::2])\n",
    "print(np11[:, 2])\n",
    "print(np11[1, :])\n",
    "print(np11[:, :])"
   ]
  },
  {
   "cell_type": "markdown",
   "id": "75ae706f",
   "metadata": {},
   "source": [
    "# 隨機填值"
   ]
  },
  {
   "cell_type": "code",
   "execution_count": 66,
   "id": "b2f54548",
   "metadata": {},
   "outputs": [
    {
     "name": "stdout",
     "output_type": "stream",
     "text": [
      "1.產生2x3 0~1之間的隨機浮點數n [[0.04233698 0.04484799 0.41593458]\n",
      " [0.09870519 0.33164887 0.9548324 ]]\n",
      "2.產生2x3常態分佈的隨機浮點數\n",
      " [[ 0.42228298 -0.87196352  0.08085539]\n",
      " [ 1.6511177   1.64420731  1.65666224]]\n",
      "3.產生0~4(不含5)隨機整數\n",
      " 1\n",
      "4.產生2~4(不含5)5個隨機整數\n",
      " [4 2 2 2 4]\n",
      "5.產生3個 0~1之間的隨機浮點 [0.74572801 0.61565593 0.74819944] \n",
      " [0.67874517 0.16296052 0.51667418] \n",
      " [0.84707279 0.44932094 0.67854249]\n"
     ]
    }
   ],
   "source": [
    "##產生隨機資料:np.ramdom()\n",
    "print(\"1.產生2x3 0~1之間的隨機浮點數n\",\n",
    "      np.random.rand(2, 3))\n",
    "print(\"2.產生2x3常態分佈的隨機浮點數\\n\",\n",
    "      np.random.randn(2, 3))\n",
    "print(\"3.產生0~4(不含5)隨機整數\\n\",\n",
    "      np.random.randint(5))\n",
    "print(\"4.產生2~4(不含5)5個隨機整數\\n\",\n",
    "      np.random.randint(2, 5, [5]))\n",
    "print(\"5.產生3個 0~1之間的隨機浮點\",\n",
    "      np.random.random(3), \"\\n\",\n",
    "      np.random.random_sample(3), \"\\n\",\n",
    "      np.random.sample(3))"
   ]
  },
  {
   "cell_type": "code",
   "execution_count": 64,
   "id": "9f55b4eb",
   "metadata": {},
   "outputs": [],
   "source": [
    "np12 = np.genfromtxt('scores.csv', delimiter=',', skip_header=1)"
   ]
  },
  {
   "cell_type": "code",
   "execution_count": 67,
   "id": "65b762e3",
   "metadata": {},
   "outputs": [
    {
     "data": {
      "text/plain": [
       "array([[ 1., 87., 85., 82.],\n",
       "       [ 2., 92., 87., 90.],\n",
       "       [ 3., 80., 91., 87.],\n",
       "       [ 4., 78., 82., 95.],\n",
       "       [ 5., 88., 89., 90.],\n",
       "       [ 6., 82., 87., 88.],\n",
       "       [ 7., 90., 92., 82.],\n",
       "       [ 8., 87., 80., 90.],\n",
       "       [ 9., 95., 78., 87.],\n",
       "       [10., 90., 88., 95.],\n",
       "       [11., 88., 89., 75.],\n",
       "       [12., 82., 91., 66.],\n",
       "       [13., 90., 82., 87.],\n",
       "       [14., 87., 89., 92.],\n",
       "       [15., 95., 87., 80.],\n",
       "       [16., 90., 92., 78.],\n",
       "       [17., 82., 80., 88.],\n",
       "       [18., 90., 78., 93.],\n",
       "       [19., 67., 87., 95.],\n",
       "       [20., 91., 82., 88.],\n",
       "       [21., 82., 81., 82.],\n",
       "       [22., 79., 87., 90.],\n",
       "       [23., 87., 92., 87.],\n",
       "       [24., 92., 82., 95.],\n",
       "       [25., 80., 90., 78.],\n",
       "       [26., 78., 76., 91.],\n",
       "       [27., 66., 90., 82.],\n",
       "       [28., 89., 77., 89.],\n",
       "       [29., 87., 95., 87.],\n",
       "       [30., 73., 90., 92.]])"
      ]
     },
     "execution_count": 67,
     "metadata": {},
     "output_type": "execute_result"
    }
   ],
   "source": [
    "np12"
   ]
  },
  {
   "cell_type": "code",
   "execution_count": 69,
   "id": "909b9b15",
   "metadata": {},
   "outputs": [
    {
     "name": "stdout",
     "output_type": "stream",
     "text": [
      "(30, 4)\n"
     ]
    }
   ],
   "source": [
    "print(np12.shape)"
   ]
  },
  {
   "cell_type": "code",
   "execution_count": 70,
   "id": "d9af21dd",
   "metadata": {},
   "outputs": [
    {
     "name": "stdout",
     "output_type": "stream",
     "text": [
      "(9, 3)\n"
     ]
    },
    {
     "data": {
      "text/plain": [
       "array([[ 2., 10.,  6.],\n",
       "       [ 3., 15.,  9.],\n",
       "       [ 4., 20., 12.],\n",
       "       [ 5., 25., 15.],\n",
       "       [ 6., 30., 18.],\n",
       "       [ 7., 35., 21.],\n",
       "       [ 8., 40., 24.],\n",
       "       [ 9., 45., 27.],\n",
       "       [10., 50., 30.]])"
      ]
     },
     "execution_count": 70,
     "metadata": {},
     "output_type": "execute_result"
    }
   ],
   "source": [
    "np13 = np.genfromtxt('0929.csv', delimiter=',', skip_header=1)\n",
    "print(np13.shape)\n",
    "np13"
   ]
  }
 ],
 "metadata": {
  "kernelspec": {
   "display_name": "Python 3 (ipykernel)",
   "language": "python",
   "name": "python3"
  },
  "language_info": {
   "codemirror_mode": {
    "name": "ipython",
    "version": 3
   },
   "file_extension": ".py",
   "mimetype": "text/x-python",
   "name": "python",
   "nbconvert_exporter": "python",
   "pygments_lexer": "ipython3",
   "version": "3.9.12"
  }
 },
 "nbformat": 4,
 "nbformat_minor": 5
}
